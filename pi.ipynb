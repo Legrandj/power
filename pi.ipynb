{
 "cells": [
  {
   "cell_type": "code",
   "execution_count": 69,
   "metadata": {
    "collapsed": true
   },
   "outputs": [],
   "source": [
    "import numpy as np\n",
    "import matplotlib.pyplot as plt\n",
    "import random as rn\n",
    "import fractions as fr"
   ]
  },
  {
   "cell_type": "code",
   "execution_count": 44,
   "metadata": {
    "collapsed": true
   },
   "outputs": [],
   "source": [
    "def approxfr(c, maxd):\n",
    "    return fr.Fraction.from_float(c).limit_denominator(maxd)"
   ]
  },
  {
   "cell_type": "code",
   "execution_count": 21,
   "metadata": {
    "collapsed": false
   },
   "outputs": [],
   "source": [
    "def archim(n):\n",
    "#perimeter/2 of inscribed regular polygon, with 6*2^n sides\n",
    "    p = 1.\n",
    "    c=np.sqrt(3.)\n",
    "    q = []\n",
    "    q.append(3.)\n",
    "    for i in range(n):\n",
    "        c=np.sqrt(c+2)\n",
    "        p*=.5*c\n",
    "        q.append(3/p)\n",
    "    return q"
   ]
  },
  {
   "cell_type": "code",
   "execution_count": 71,
   "metadata": {
    "collapsed": false
   },
   "outputs": [],
   "source": [
    "def archim1(n):\n",
    "#perimeter/2 of circumscribed regular polygon, with 6*2^n sides\n",
    "    p = 1.\n",
    "    c=np.sqrt(3.)\n",
    "    q = []\n",
    "    q.append(2*c)\n",
    "    for i in range(n):\n",
    "        c=np.sqrt(c+2)\n",
    "        p*=.5*c\n",
    "        q.append(3/(.5*p*c))\n",
    "    return q"
   ]
  },
  {
   "cell_type": "code",
   "execution_count": 24,
   "metadata": {
    "collapsed": true
   },
   "outputs": [],
   "source": [
    "def viete(n):\n",
    "#perimeter/2 of inscribed regular polygon, with 4*2^n sides\n",
    "    p = 1.\n",
    "    c = np.sqrt(2.)\n",
    "    cc = 2*c\n",
    "    q = []\n",
    "    q.append(cc)\n",
    "    for i in range(n):\n",
    "        c=np.sqrt(c+2)\n",
    "        p*=.5*c\n",
    "        q.append(cc/p)\n",
    "    return q"
   ]
  },
  {
   "cell_type": "code",
   "execution_count": 88,
   "metadata": {
    "collapsed": false
   },
   "outputs": [
    {
     "data": {
      "text/plain": [
       "[3,\n",
       " 3.1058285412302489,\n",
       " 3.1326286132812382,\n",
       " 3.1393502030468672,\n",
       " 3.1410319508905098]"
      ]
     },
     "execution_count": 88,
     "metadata": {},
     "output_type": "execute_result"
    }
   ],
   "source": [
    "archim(4)"
   ]
  },
  {
   "cell_type": "code",
   "execution_count": 91,
   "metadata": {
    "collapsed": false
   },
   "outputs": [
    {
     "data": {
      "text/plain": [
       "Fraction(245, 78)"
      ]
     },
     "execution_count": 91,
     "metadata": {},
     "output_type": "execute_result"
    }
   ],
   "source": [
    "a=archim(10)\n",
    "approxfr(a[4],100)"
   ]
  },
  {
   "cell_type": "code",
   "execution_count": 92,
   "metadata": {
    "collapsed": false
   },
   "outputs": [
    {
     "data": {
      "text/plain": [
       "0.042440401594735278"
      ]
     },
     "execution_count": 92,
     "metadata": {},
     "output_type": "execute_result"
    }
   ],
   "source": [
    "a[4]-220./71"
   ]
  },
  {
   "cell_type": "code",
   "execution_count": 93,
   "metadata": {
    "collapsed": false
   },
   "outputs": [
    {
     "data": {
      "text/plain": [
       "Fraction(22, 7)"
      ]
     },
     "execution_count": 93,
     "metadata": {},
     "output_type": "execute_result"
    }
   ],
   "source": [
    "a=archim1(10)\n",
    "approxfr(a[4],100)"
   ]
  },
  {
   "cell_type": "code",
   "execution_count": 94,
   "metadata": {
    "collapsed": false
   },
   "outputs": [
    {
     "data": {
      "text/plain": [
       "[3.4641016151377544,\n",
       " 3.2153903091734723,\n",
       " 3.1596599420975005,\n",
       " 3.1460862151314353,\n",
       " 3.1427145996453678,\n",
       " 3.1418730499798233,\n",
       " 3.1416627470568481,\n",
       " 3.1416101766046896,\n",
       " 3.1415970343215265,\n",
       " 3.1415937487713519,\n",
       " 3.1415929273850969]"
      ]
     },
     "execution_count": 94,
     "metadata": {},
     "output_type": "execute_result"
    }
   ],
   "source": [
    "a"
   ]
  },
  {
   "cell_type": "code",
   "execution_count": 96,
   "metadata": {
    "collapsed": false
   },
   "outputs": [
    {
     "data": {
      "text/plain": [
       "0.00014254321177498142"
      ]
     },
     "execution_count": 96,
     "metadata": {},
     "output_type": "execute_result"
    }
   ],
   "source": [
    "22./7-a[4]"
   ]
  },
  {
   "cell_type": "code",
   "execution_count": 89,
   "metadata": {
    "collapsed": false
   },
   "outputs": [
    {
     "data": {
      "text/plain": [
       "[2.8284271247461903,\n",
       " 3.0614674589207183,\n",
       " 3.1214451522580529,\n",
       " 3.1365484905459398,\n",
       " 3.140331156954753,\n",
       " 3.1412772509327729,\n",
       " 3.1415138011443009,\n",
       " 3.1415729403670913,\n",
       " 3.14158772527716]"
      ]
     },
     "execution_count": 89,
     "metadata": {},
     "output_type": "execute_result"
    }
   ],
   "source": [
    "viete(8)"
   ]
  },
  {
   "cell_type": "code",
   "execution_count": null,
   "metadata": {
    "collapsed": true
   },
   "outputs": [],
   "source": []
  }
 ],
 "metadata": {
  "kernelspec": {
   "display_name": "Python 2",
   "language": "python",
   "name": "python2"
  },
  "language_info": {
   "codemirror_mode": {
    "name": "ipython",
    "version": 2
   },
   "file_extension": ".py",
   "mimetype": "text/x-python",
   "name": "python",
   "nbconvert_exporter": "python",
   "pygments_lexer": "ipython2",
   "version": "2.7.13"
  }
 },
 "nbformat": 4,
 "nbformat_minor": 2
}
