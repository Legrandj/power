{
 "cells": [
  {
   "cell_type": "code",
   "execution_count": 18,
   "metadata": {
    "collapsed": true
   },
   "outputs": [],
   "source": [
    "import numpy as np\n",
    "import matplotlib.pyplot as plt\n",
    "import random as rn"
   ]
  },
  {
   "cell_type": "code",
   "execution_count": 168,
   "metadata": {
    "collapsed": true
   },
   "outputs": [],
   "source": [
    "def expser(n,x,eps=0):\n",
    "#truncated Maclaurin series (i.e., Taylor polynomial) for exp\n",
    "# n - degree of the Taylor polynomial\n",
    "# x - the argument\n",
    "# eps - relative error in computation of the series terms, modeled by uniform noise\n",
    "    b=1.\n",
    "    y=b\n",
    "    for i in range(1,n+1):\n",
    "        b*=float(x)/i\n",
    "        r=2*eps*rn.random()-eps\n",
    "        y+=b*(1.+r)\n",
    "    return y\n",
    "\n",
    "def expnlist(nlist,x,eps=0):\n",
    "#works with *list* of n\n",
    "    yy = []\n",
    "    for n in nlist: \n",
    "        yy.append(expser(n,x,eps))\n",
    "    yy.append(np.exp(x))\n",
    "    return yy"
   ]
  },
  {
   "cell_type": "code",
   "execution_count": 102,
   "metadata": {
    "collapsed": true
   },
   "outputs": [],
   "source": [
    "def geomser(n,x,eps=0):\n",
    "#truncated geometric series for 1/(1-x)\n",
    "# n - degree of the Taylor polynomial\n",
    "# x - the argument\n",
    "# eps - relative error in computation of the series terms, modeled by uniform noise\n",
    "    b=1.\n",
    "    y=b\n",
    "    for i in range(1,n+1):\n",
    "        b*=float(x)\n",
    "        r=2*eps*rn.random()-eps\n",
    "        y+=b*(1.+r)\n",
    "    return y\n",
    "\n",
    "def geomnlist(nlist,x,eps=0):\n",
    "#works with *list* of n\n",
    "    yy = []\n",
    "    for n in nlist: \n",
    "        yy.append(gser(n,x,eps))\n",
    "    yy.append(1/(1-x))\n",
    "    return yy"
   ]
  },
  {
   "cell_type": "code",
   "execution_count": 90,
   "metadata": {
    "collapsed": true
   },
   "outputs": [],
   "source": [
    "def mercser(n,x,eps=0):\n",
    "#truncated Mercator's series for log(1+x)\n",
    "# n - degree of the Taylor polynomial\n",
    "# x - the argument\n",
    "# eps - relative error in computation of the series terms, modeled by uniform noise\n",
    "    b=float(x)\n",
    "    y=b\n",
    "    for i in range(2,n+1):\n",
    "        b*=-float(x)\n",
    "        r=2*eps*rn.random()-eps\n",
    "        y+=b/i*(1.+r)\n",
    "    return y\n",
    "\n",
    "def mercnlist(nlist,x,eps=0):\n",
    "#works with *list* of n\n",
    "    yy = []\n",
    "    for n in nlist: \n",
    "        yy.append(mercser(n,x,eps))\n",
    "    yy.append(np.log(1+x))\n",
    "    return yy"
   ]
  },
  {
   "cell_type": "code",
   "execution_count": 95,
   "metadata": {
    "collapsed": true
   },
   "outputs": [],
   "source": [
    "def gregser(n,x,eps=0):\n",
    "#truncated Gregory's series for log((1+x)/(1-x))\n",
    "# n - number of terms of the Taylor polynomial\n",
    "# x - the argument\n",
    "# eps - relative error in computation of the series terms, modeled by uniform noise\n",
    "    b=float(x)\n",
    "    y=b\n",
    "    xx=float(x)*x\n",
    "    for i in range(1,n+1):\n",
    "        b*=xx\n",
    "        r=2*eps*rn.random()-eps\n",
    "        y+=b/(2*i+1)*(1.+r)\n",
    "    return 2*y\n",
    "\n",
    "def gregnlist(nlist,x,eps=0):\n",
    "#works with *list* of n\n",
    "    yy = []\n",
    "    for n in nlist: \n",
    "        yy.append(gregser(n,x,eps))\n",
    "    yy.append(np.log((1+x)/(1-x)))\n",
    "    return yy"
   ]
  },
  {
   "cell_type": "code",
   "execution_count": 71,
   "metadata": {
    "collapsed": false
   },
   "outputs": [],
   "source": [
    "def sinser(n,x,eps=0):\n",
    "#truncated Maclaurin series for sin\n",
    "# n - number of terms of the Taylor polynomial\n",
    "# x - the argument\n",
    "# eps - relative error in computation of the series terms, modeled by uniform noise\n",
    "    b=float(x)\n",
    "    y=b\n",
    "    xx=-float(x)*x\n",
    "    for i in range(1,n+1):\n",
    "        b*=xx/(2*i*(2*i+1))\n",
    "        r=2*eps*rn.random()-eps\n",
    "        y+=b*(1.+r)\n",
    "    return y\n",
    "\n",
    "def sinnlist(nlist,x,eps=0):\n",
    "#works with *list* of n\n",
    "    yy = []\n",
    "    for n in nlist: \n",
    "        yy.append(sinser(n,x,eps))\n",
    "    yy.append(np.sin(x))\n",
    "    return yy"
   ]
  },
  {
   "cell_type": "code",
   "execution_count": 74,
   "metadata": {
    "collapsed": true
   },
   "outputs": [],
   "source": [
    "def cosser(n,x,eps=0):\n",
    "#truncated Maclaurin series for cos\n",
    "# n - number of terms of the Taylor polynomial\n",
    "# x - the argument\n",
    "# eps - relative error in computation of the series terms, modeled by uniform noise\n",
    "    b=1.\n",
    "    y=b\n",
    "    xx=-float(x)*x\n",
    "    for i in range(1,n+1):\n",
    "        b*=xx/(2*i*(2*i-1))\n",
    "        r=2*eps*rn.random()-eps\n",
    "        y+=b*(1.+r)\n",
    "    return y\n",
    "\n",
    "def cosnlist(nlist,x,eps=0):\n",
    "#works with *list* of n\n",
    "    yy = []\n",
    "    for n in nlist: \n",
    "        yy.append(cosser(n,x,eps))\n",
    "    yy.append(np.cos(x))\n",
    "    return yy"
   ]
  },
  {
   "cell_type": "code",
   "execution_count": 80,
   "metadata": {
    "collapsed": true
   },
   "outputs": [],
   "source": [
    "def atanser(n,x,eps=0):\n",
    "#truncated Maclaurin series for arctan\n",
    "# n - number of terms of the Taylor polynomial\n",
    "# x - the argument\n",
    "# eps - relative error in computation of the series terms, modeled by uniform noise\n",
    "    b=float(x)\n",
    "    y=b\n",
    "    xx=-float(x)*x\n",
    "    for i in range(1,n+1):\n",
    "        b*=xx\n",
    "        r=2*eps*rn.random()-eps\n",
    "        y+=b/(2*i+1)*(1.+r)\n",
    "    return y\n",
    "\n",
    "def atannlist(nlist,x,eps=0):\n",
    "#works with *list* of n\n",
    "    yy = []\n",
    "    for n in nlist: \n",
    "        yy.append(atanser(n,x,eps))\n",
    "    yy.append(np.arctan(x))\n",
    "    return yy"
   ]
  },
  {
   "cell_type": "code",
   "execution_count": 83,
   "metadata": {
    "collapsed": true
   },
   "outputs": [],
   "source": [
    "def asinser(n,x,eps=0):\n",
    "#truncated Maclaurin series for arcsin\n",
    "# n - number of terms of the Taylor polynomial\n",
    "# x - the argument\n",
    "# eps - relative error in computation of the series terms, modeled by uniform noise\n",
    "    b=float(x)\n",
    "    y=b\n",
    "    xx=float(x)*x\n",
    "    for i in range(1,n+1):\n",
    "        b*=xx*(2*i-1)/(2*i)\n",
    "        r=2*eps*rn.random()-eps\n",
    "        y+=b/(2*i+1)*(1.+r)\n",
    "    return y\n",
    "\n",
    "def asinnlist(nlist,x,eps=0):\n",
    "#works with *list* of n\n",
    "    yy = []\n",
    "    for n in nlist: \n",
    "        yy.append(asinser(n,x,eps))\n",
    "    yy.append(np.arcsin(x))\n",
    "    return yy"
   ]
  },
  {
   "cell_type": "code",
   "execution_count": 85,
   "metadata": {
    "collapsed": true
   },
   "outputs": [],
   "source": [
    "def sinhser(n,x,eps=0):\n",
    "#truncated Maclaurin series for sinh\n",
    "# n - number of terms of the Taylor polynomial\n",
    "# x - the argument\n",
    "# eps - relative error in computation of the series terms, modeled by uniform noise\n",
    "    b=float(x)\n",
    "    y=b\n",
    "    xx=float(x)*x\n",
    "    for i in range(1,n+1):\n",
    "        b*=xx/(2*i*(2*i+1))\n",
    "        r=2*eps*rn.random()-eps\n",
    "        y+=b*(1.+r)\n",
    "    return y\n",
    "\n",
    "def sinhnlist(nlist,x,eps=0):\n",
    "#works with *list* of n\n",
    "    yy = []\n",
    "    for n in nlist: \n",
    "        yy.append(sinhser(n,x,eps))\n",
    "    yy.append(np.sinh(x))\n",
    "    return yy"
   ]
  },
  {
   "cell_type": "code",
   "execution_count": 88,
   "metadata": {
    "collapsed": true
   },
   "outputs": [],
   "source": [
    "def coshser(n,x,eps=0):\n",
    "#truncated Maclaurin series for cosh\n",
    "# n - number of terms of the Taylor polynomial\n",
    "# x - the argument\n",
    "# eps - relative error in computation of the series terms, modeled by uniform noise\n",
    "    b=1.\n",
    "    y=b\n",
    "    xx=float(x)*x\n",
    "    for i in range(1,n+1):\n",
    "        b*=xx/(2*i*(2*i-1))\n",
    "        r=2*eps*rn.random()-eps\n",
    "        y+=b*(1.+r)\n",
    "    return y\n",
    "\n",
    "def coshnlist(nlist,x,eps=0):\n",
    "#works with *list* of n\n",
    "    yy = []\n",
    "    for n in nlist: \n",
    "        yy.append(coshser(n,x,eps))\n",
    "    yy.append(np.cosh(x))\n",
    "    return yy"
   ]
  },
  {
   "cell_type": "code",
   "execution_count": 113,
   "metadata": {
    "collapsed": true
   },
   "outputs": [],
   "source": [
    "def fxlist(f,n,xlist,eps=0):\n",
    "#works with *list* of x\n",
    "    yy = []\n",
    "    for x in xlist: \n",
    "        yy.append(f(n,x,eps))\n",
    "    return yy"
   ]
  },
  {
   "cell_type": "code",
   "execution_count": 231,
   "metadata": {
    "collapsed": false
   },
   "outputs": [
    {
     "name": "stdout",
     "output_type": "stream",
     "text": [
      "1& 2.0000000000000000& 1.2500000000000000& 1.0625000000000000\\\\\n",
      "2& 2.5000000000000000& 1.2812500000000000& 1.0644531250000000\\\\\n",
      "3& 2.6666666666666665& 1.2838541666666667& 1.0644938151041667\\\\\n",
      "4& 2.7083333333333330& 1.2840169270833335& 1.0644944508870444\\\\\n",
      "5& 2.7166666666666663& 1.2840250651041669& 1.0644944588343304\\\\\n",
      "6& 2.7180555555555554& 1.2840254041883683& 1.0644944589171146\\\\\n",
      "7& 2.7182539682539684& 1.2840254162985183& 1.0644944589178538\\\\\n",
      "8& 2.7182787698412700& 1.2840254166769605& 1.0644944589178595\\\\\n",
      "9& 2.7182815255731922& 1.2840254166874727& 1.0644944589178595\\\\\n",
      "10& 2.7182818011463845& 1.2840254166877356& 1.0644944589178595\\\\\n",
      "11& 2.7182818284590451& 1.2840254166877414& 1.0644944589178593\\\\\n"
     ]
    }
   ],
   "source": [
    "x=1\n",
    "a1=expnlist(range(1,11),x)\n",
    "x=.25\n",
    "a2=expnlist(range(1,11),x)\n",
    "x=1./16\n",
    "a3=expnlist(range(1,11),x)\n",
    "for i in range(0,len(a1)):\n",
    "    print '{}& {:.16f}& {:.16f}& {:.16f}\\\\\\\\'.format(i+1,a1[i],a2[i],a3[i])"
   ]
  },
  {
   "cell_type": "code",
   "execution_count": 99,
   "metadata": {
    "collapsed": false
   },
   "outputs": [
    {
     "data": {
      "text/plain": [
       "[1.5,\n",
       " 1.75,\n",
       " 1.875,\n",
       " 1.9375,\n",
       " 1.96875,\n",
       " 1.984375,\n",
       " 1.9921875,\n",
       " 1.99609375,\n",
       " 1.998046875,\n",
       " 1.9990234375,\n",
       " 2.0]"
      ]
     },
     "execution_count": 99,
     "metadata": {},
     "output_type": "execute_result"
    }
   ],
   "source": [
    "x=.5\n",
    "geomnlist(range(1,11),x)"
   ]
  },
  {
   "cell_type": "code",
   "execution_count": 93,
   "metadata": {
    "collapsed": false
   },
   "outputs": [
    {
     "data": {
      "text/plain": [
       "[0.5,\n",
       " 0.375,\n",
       " 0.4166666666666667,\n",
       " 0.4010416666666667,\n",
       " 0.40729166666666666,\n",
       " 0.4046875,\n",
       " 0.40580357142857143,\n",
       " 0.40531529017857143,\n",
       " 0.4055323040674603,\n",
       " 0.4054346478174603,\n",
       " 0.40546510810816438]"
      ]
     },
     "execution_count": 93,
     "metadata": {},
     "output_type": "execute_result"
    }
   ],
   "source": [
    "x=.5\n",
    "mercnlist(range(1,11),x)"
   ]
  },
  {
   "cell_type": "code",
   "execution_count": 96,
   "metadata": {
    "collapsed": false
   },
   "outputs": [
    {
     "data": {
      "text/plain": [
       "[1.0833333333333333,\n",
       " 1.0958333333333332,\n",
       " 1.098065476190476,\n",
       " 1.0984995039682537,\n",
       " 1.0985882823773445,\n",
       " 1.0986070624254214,\n",
       " 1.098611131435838,\n",
       " 1.0986120290116652,\n",
       " 1.0986122297852055,\n",
       " 1.098612275198268,\n",
       " 1.0986122886681098]"
      ]
     },
     "execution_count": 96,
     "metadata": {},
     "output_type": "execute_result"
    }
   ],
   "source": [
    "x=.5\n",
    "gregnlist(range(1,11),x)"
   ]
  },
  {
   "cell_type": "code",
   "execution_count": 73,
   "metadata": {
    "collapsed": false
   },
   "outputs": [
    {
     "data": {
      "text/plain": [
       "[0.8333333333333334,\n",
       " 0.8416666666666667,\n",
       " 0.841468253968254,\n",
       " 0.8414710097001764,\n",
       " 0.841470984648068,\n",
       " 0.8414709848086585,\n",
       " 0.8414709848078937,\n",
       " 0.8414709848078965,\n",
       " 0.8414709848078965,\n",
       " 0.8414709848078965,\n",
       " 0.8414709848078965]"
      ]
     },
     "execution_count": 73,
     "metadata": {},
     "output_type": "execute_result"
    }
   ],
   "source": [
    "x=1\n",
    "sinnlist(range(1,11),x)"
   ]
  },
  {
   "cell_type": "code",
   "execution_count": 77,
   "metadata": {
    "collapsed": false
   },
   "outputs": [
    {
     "data": {
      "text/plain": [
       "[0.6915748624659576,\n",
       " 0.707429206709773,\n",
       " 0.7071032148228457,\n",
       " 0.7071068056832942,\n",
       " 0.7071067810719247,\n",
       " 0.7071067811869363,\n",
       " 0.7071067811865465,\n",
       " 0.7071067811865475,\n",
       " 0.7071067811865475,\n",
       " 0.7071067811865475,\n",
       " 0.70710678118654757]"
      ]
     },
     "execution_count": 77,
     "metadata": {},
     "output_type": "execute_result"
    }
   ],
   "source": [
    "x=np.pi/4\n",
    "cosnlist(range(1,11),x)"
   ]
  },
  {
   "cell_type": "code",
   "execution_count": 82,
   "metadata": {
    "collapsed": false
   },
   "outputs": [
    {
     "data": {
      "text/plain": [
       "[0.4583333333333333,\n",
       " 0.4645833333333333,\n",
       " 0.46346726190476184,\n",
       " 0.46368427579365074,\n",
       " 0.46363988658910527,\n",
       " 0.4636492766131437,\n",
       " 0.46364724210793534,\n",
       " 0.46364769089584895,\n",
       " 0.4636475905090788,\n",
       " 0.4636476132156101,\n",
       " 0.46364760900080615]"
      ]
     },
     "execution_count": 82,
     "metadata": {},
     "output_type": "execute_result"
    }
   ],
   "source": [
    "x=.5\n",
    "atannlist(range(1,11),x)"
   ]
  },
  {
   "cell_type": "code",
   "execution_count": 84,
   "metadata": {
    "collapsed": false
   },
   "outputs": [
    {
     "data": {
      "text/plain": [
       "[0.5208333333333334,\n",
       " 0.5231770833333333,\n",
       " 0.523525855654762,\n",
       " 0.523585195390005,\n",
       " 0.5235961192958112,\n",
       " 0.523598237553187,\n",
       " 0.5235986637263972,\n",
       " 0.5235987518596438,\n",
       " 0.5235987704784364,\n",
       " 0.5235987744792603,\n",
       " 0.52359877559829882]"
      ]
     },
     "execution_count": 84,
     "metadata": {},
     "output_type": "execute_result"
    }
   ],
   "source": [
    "x=.5\n",
    "asinnlist(range(1,11),x)"
   ]
  },
  {
   "cell_type": "code",
   "execution_count": 87,
   "metadata": {
    "collapsed": false
   },
   "outputs": [
    {
     "data": {
      "text/plain": [
       "[1.1666666666666667,\n",
       " 1.175,\n",
       " 1.1751984126984127,\n",
       " 1.1752011684303352,\n",
       " 1.1752011934824436,\n",
       " 1.175201193643034,\n",
       " 1.1752011936437987,\n",
       " 1.1752011936438016,\n",
       " 1.1752011936438016,\n",
       " 1.1752011936438016,\n",
       " 1.1752011936438014]"
      ]
     },
     "execution_count": 87,
     "metadata": {},
     "output_type": "execute_result"
    }
   ],
   "source": [
    "x=1\n",
    "sinhnlist(range(1,11),x)"
   ]
  },
  {
   "cell_type": "code",
   "execution_count": 89,
   "metadata": {
    "collapsed": false
   },
   "outputs": [
    {
     "data": {
      "text/plain": [
       "[1.5,\n",
       " 1.5416666666666667,\n",
       " 1.5430555555555556,\n",
       " 1.5430803571428573,\n",
       " 1.5430806327160496,\n",
       " 1.5430806348037251,\n",
       " 1.543080634815196,\n",
       " 1.5430806348152437,\n",
       " 1.543080634815244,\n",
       " 1.543080634815244,\n",
       " 1.5430806348152437]"
      ]
     },
     "execution_count": 89,
     "metadata": {},
     "output_type": "execute_result"
    }
   ],
   "source": [
    "x=1\n",
    "coshnlist(range(1,11),x)"
   ]
  },
  {
   "cell_type": "code",
   "execution_count": 181,
   "metadata": {
    "collapsed": false
   },
   "outputs": [
    {
     "data": {
      "image/png": "[encoded data removed]",
      "text/plain": [
       "<matplotlib.figure.Figure at 0x112607d90>"
      ]
     },
     "metadata": {},
     "output_type": "display_data"
    }
   ],
   "source": [
    "x = np.linspace(-2.5, 1.5, 100)\n",
    "nlist = [1,2,3]\n",
    "for n in nlist: plt.plot(x,fxlist(expser,n,x))\n",
    "plt.plot(x,np.exp(x))\n",
    "#plt.savefig('exp.pdf',bbox_inches='tight')\n",
    "plt.show()"
   ]
  },
  {
   "cell_type": "code",
   "execution_count": 182,
   "metadata": {
    "collapsed": false,
    "scrolled": true
   },
   "outputs": [
    {
     "data": {
      "image/png": "[encoded data removed]",
      "text/plain": [
       "<matplotlib.figure.Figure at 0x11198bf10>"
      ]
     },
     "metadata": {},
     "output_type": "display_data"
    }
   ],
   "source": [
    "x = np.linspace(-2.5, 1.5, 300)\n",
    "nlist = [1,2,3]\n",
    "for n in nlist: plt.plot(x,fxlist(expser,n,x,.07))\n",
    "plt.plot(x,np.exp(x))\n",
    "#plt.savefig('expin.pdf',bbox_inches='tight')\n",
    "plt.show()"
   ]
  },
  {
   "cell_type": "code",
   "execution_count": 133,
   "metadata": {
    "collapsed": false
   },
   "outputs": [
    {
     "data": {
      "image/png": "[encoded data removed]",
      "text/plain": [
       "<matplotlib.figure.Figure at 0x1124cf3d0>"
      ]
     },
     "metadata": {},
     "output_type": "display_data"
    }
   ],
   "source": [
    "x = np.linspace(-3, 3, 50)\n",
    "nlist = [1,2,3]\n",
    "for n in nlist: plt.plot(x,fxlist(sinser,n,x))\n",
    "plt.plot(x,np.sin(x))\n",
    "plt.show()"
   ]
  },
  {
   "cell_type": "code",
   "execution_count": 137,
   "metadata": {
    "collapsed": false
   },
   "outputs": [
    {
     "data": {
      "image/png": "[encoded data removed]",
      "text/plain": [
       "<matplotlib.figure.Figure at 0x111f4a1d0>"
      ]
     },
     "metadata": {},
     "output_type": "display_data"
    }
   ],
   "source": [
    "x = np.linspace(-1, .9, 50)\n",
    "nlist = [1,2,3]\n",
    "for n in nlist: plt.plot(x,fxlist(geomser,n,x))\n",
    "plt.plot(x,[1/(1-y) for y in x])\n",
    "plt.show()"
   ]
  },
  {
   "cell_type": "code",
   "execution_count": 140,
   "metadata": {
    "collapsed": false
   },
   "outputs": [
    {
     "data": {
      "image/png": "[encoded data removed]",
      "text/plain": [
       "<matplotlib.figure.Figure at 0x111ea0290>"
      ]
     },
     "metadata": {},
     "output_type": "display_data"
    }
   ],
   "source": [
    "x = np.linspace(-.9, 1, 50)\n",
    "nlist = [1,2,3]\n",
    "for n in nlist: plt.plot(x,fxlist(mercser,n,x))\n",
    "plt.plot(x,[np.log(1+y) for y in x])\n",
    "plt.show()"
   ]
  },
  {
   "cell_type": "code",
   "execution_count": 144,
   "metadata": {
    "collapsed": false
   },
   "outputs": [
    {
     "data": {
      "image/png": "[encoded data removed]",
      "text/plain": [
       "<matplotlib.figure.Figure at 0x111ca5e50>"
      ]
     },
     "metadata": {},
     "output_type": "display_data"
    }
   ],
   "source": [
    "x = np.linspace(-1.1, 1.1, 50)\n",
    "nlist = [1,2,3]\n",
    "for n in nlist: plt.plot(x,fxlist(atanser,n,x))\n",
    "plt.plot(x,np.arctan(x))\n",
    "plt.show()"
   ]
  },
  {
   "cell_type": "code",
   "execution_count": 152,
   "metadata": {
    "collapsed": false
   },
   "outputs": [
    {
     "data": {
      "image/png": "[encoded data removed]",
      "text/plain": [
       "<matplotlib.figure.Figure at 0x112026f10>"
      ]
     },
     "metadata": {},
     "output_type": "display_data"
    }
   ],
   "source": [
    "x = np.linspace(-.9999, .9999, 1000)\n",
    "nlist = [1,2,3]\n",
    "for n in nlist: plt.plot(x,fxlist(asinser,n,x))\n",
    "plt.plot(x,np.arcsin(x))\n",
    "plt.show()"
   ]
  },
  {
   "cell_type": "code",
   "execution_count": 185,
   "metadata": {
    "collapsed": false
   },
   "outputs": [
    {
     "data": {
      "text/plain": [
       "5.8284271247461898"
      ]
     },
     "execution_count": 185,
     "metadata": {},
     "output_type": "execute_result"
    }
   ],
   "source": [
    "3+np.sqrt(8)"
   ]
  },
  {
   "cell_type": "code",
   "execution_count": 230,
   "metadata": {
    "collapsed": false
   },
   "outputs": [
    {
     "name": "stdout",
     "output_type": "stream",
     "text": [
      "1& 1.0000000000000000& 0.5000000000000000& 0.6913580246913580& 0.6930256795263684\\\\\n",
      "2& 0.5000000000000000& 0.6250000000000000& 0.6930041152263374& 0.6931446209503476\\\\\n",
      "3& 0.8333333333333333& 0.6666666666666666& 0.6931347573322881& 0.6931471218850720\\\\\n",
      "4& 0.5833333333333333& 0.6822916666666666& 0.6931460473908271& 0.6931471791455733\\\\\n",
      "5& 0.7833333333333332& 0.6885416666666666& 0.6931470737597851& 0.6931471805246939\\\\\n",
      "6& 0.6166666666666666& 0.6911458333333332& 0.6931471702560119& 0.6931471805590457\\\\\n",
      "7& 0.7595238095238095& 0.6922619047619046& 0.6931471795482411& 0.6931471805599221\\\\\n",
      "8& 0.6345238095238095& 0.6927501860119046& 0.6931471804592440& 0.6931471805599448\\\\\n",
      "9& 0.7456349206349207& 0.6929671999007935& 0.6931471805498115& 0.6931471805599454\\\\\n",
      "10& 0.6456349206349207& 0.6930648561507935& 0.6931471805589162& 0.6931471805599454\\\\\n",
      "11& 0.6931471805599453& 0.6931471805599453& 0.6931471805599452& 0.6931471805599454\\\\\n"
     ]
    }
   ],
   "source": [
    "n=10\n",
    "nlist=range(1,n+1)\n",
    "x=1.\n",
    "a0=mercnlist(nlist,x)\n",
    "x=-.5\n",
    "a=mercnlist(nlist,x)\n",
    "a1=[-aa for aa in a]\n",
    "x=1./3\n",
    "a2=gregnlist(nlist,x)\n",
    "x=1./(3+np.sqrt(8))\n",
    "a=gregnlist(nlist,x)\n",
    "a3=[2*aa for aa in a]\n",
    "for i in range(0,len(a0)):\n",
    "    print '{}& {:.16f}& {:.16f}& {:.16f}& {:.16f}\\\\\\\\'.format(i+1,a0[i],a1[i],a2[i],a3[i])"
   ]
  },
  {
   "cell_type": "code",
   "execution_count": null,
   "metadata": {
    "collapsed": true
   },
   "outputs": [],
   "source": []
  }
 ],
 "metadata": {
  "kernelspec": {
   "display_name": "Python 2",
   "language": "python",
   "name": "python2"
  },
  "language_info": {
   "codemirror_mode": {
    "name": "ipython",
    "version": 2
   },
   "file_extension": ".py",
   "mimetype": "text/x-python",
   "name": "python",
   "nbconvert_exporter": "python",
   "pygments_lexer": "ipython2",
   "version": "2.7.13"
  }
 },
 "nbformat": 4,
 "nbformat_minor": 2
}
