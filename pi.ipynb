{
 "cells": [
  {
   "cell_type": "code",
   "execution_count": 3,
   "metadata": {
    "collapsed": true
   },
   "outputs": [],
   "source": [
    "import numpy as np\n",
    "import matplotlib.pyplot as plt\n",
    "import random as rn\n",
    "import fractions as fr"
   ]
  },
  {
   "cell_type": "code",
   "execution_count": 4,
   "metadata": {
    "collapsed": true
   },
   "outputs": [],
   "source": [
    "def approxfr(c, maxd):\n",
    "    return fr.Fraction.from_float(c).limit_denominator(maxd)"
   ]
  },
  {
   "cell_type": "code",
   "execution_count": 5,
   "metadata": {
    "collapsed": false
   },
   "outputs": [],
   "source": [
    "def archim(n):\n",
    "#perimeter/2 of inscribed regular polygon, with 6*2^n sides\n",
    "    p = 1.\n",
    "    c=np.sqrt(3.)\n",
    "    q = []\n",
    "    q.append(3.)\n",
    "    for i in range(n):\n",
    "        c=np.sqrt(c+2)\n",
    "        p*=.5*c\n",
    "        q.append(3/p)\n",
    "    return q"
   ]
  },
  {
   "cell_type": "code",
   "execution_count": 6,
   "metadata": {
    "collapsed": false
   },
   "outputs": [],
   "source": [
    "def archim1(n):\n",
    "#perimeter/2 of circumscribed regular polygon, with 6*2^n sides\n",
    "    p = 1.\n",
    "    c=np.sqrt(3.)\n",
    "    q = []\n",
    "    q.append(2*c)\n",
    "    for i in range(n):\n",
    "        c=np.sqrt(c+2)\n",
    "        p*=.5*c\n",
    "        q.append(3/(.5*p*c))\n",
    "    return q"
   ]
  },
  {
   "cell_type": "code",
   "execution_count": 17,
   "metadata": {
    "collapsed": true
   },
   "outputs": [],
   "source": [
    "def snell(n):\n",
    "#Snell's improvement of Archimedes\n",
    "    p = 1.\n",
    "    c=np.sqrt(3.)\n",
    "    q = []\n",
    "    q.append(3.)\n",
    "    for i in range(n):\n",
    "        c=np.sqrt(c+2)\n",
    "        p*=.5*c\n",
    "        q.append(2/p+1/(.5*p*c))\n",
    "    return q"
   ]
  },
  {
   "cell_type": "code",
   "execution_count": 8,
   "metadata": {
    "collapsed": true
   },
   "outputs": [],
   "source": [
    "def viete(n):\n",
    "#perimeter/2 of inscribed regular polygon, with 4*2^n sides\n",
    "    p = 1.\n",
    "    c = np.sqrt(2.)\n",
    "    cc = 2*c\n",
    "    q = []\n",
    "    q.append(cc)\n",
    "    for i in range(n):\n",
    "        c=np.sqrt(c+2)\n",
    "        p*=.5*c\n",
    "        q.append(cc/p)\n",
    "    return q"
   ]
  },
  {
   "cell_type": "code",
   "execution_count": 46,
   "metadata": {
    "collapsed": false
   },
   "outputs": [],
   "source": [
    "def wallis(n,step=1):\n",
    "#Wallis product\n",
    "    p = 4.\n",
    "    q = []\n",
    "    q.append(p)\n",
    "    for i in range(1,n):\n",
    "        j = float(2*i+1)\n",
    "        j *= j\n",
    "        p *= (j-1)/j\n",
    "        if (i%step==0): \n",
    "            q.append(p)\n",
    "    return q"
   ]
  },
  {
   "cell_type": "code",
   "execution_count": 107,
   "metadata": {
    "collapsed": true
   },
   "outputs": [],
   "source": [
    "def descartes(n):\n",
    "#Cartesian method\n",
    "    x = 1.\n",
    "    p = 4.\n",
    "    q = []\n",
    "    q.append(p/x)\n",
    "    for i in range(1,n):\n",
    "        x = x + np.sqrt(x*x+1)\n",
    "        p *= 2\n",
    "        q.append(p/x)\n",
    "    return q"
   ]
  },
  {
   "cell_type": "code",
   "execution_count": 58,
   "metadata": {
    "collapsed": true
   },
   "outputs": [],
   "source": [
    "def leibniz(n, step=1):\n",
    "#Madhava-Gregory-Leibniz series for pi\n",
    "    p = 1.\n",
    "    q = []\n",
    "    q.append(4*p)\n",
    "    for i in range(1,n):\n",
    "        j = 1/float(2*i+1)\n",
    "        p += j if i%2==0 else -j\n",
    "        if (i%step==0): \n",
    "            q.append(4*p)\n",
    "    return q"
   ]
  },
  {
   "cell_type": "code",
   "execution_count": 95,
   "metadata": {
    "collapsed": false
   },
   "outputs": [],
   "source": [
    "def madhava1(n, step=1):\n",
    "#Madhava's improvement 1\n",
    "    p = 1.\n",
    "    q = []\n",
    "    q.append(4*(p-1./4))\n",
    "    for i in range(1,n):\n",
    "        j = 1/float(2*i+1)\n",
    "        k = -1/float(4*i+4)\n",
    "        p += j if i%2==0 else -j\n",
    "        f = k if i%2==0 else -k\n",
    "        if (i%step==0):\n",
    "            q.append(4*(p+f))\n",
    "    return q"
   ]
  },
  {
   "cell_type": "code",
   "execution_count": 101,
   "metadata": {
    "collapsed": true
   },
   "outputs": [],
   "source": [
    "def madhava2(n, step=1):\n",
    "#Madhava's improvement 2\n",
    "    p = 1.\n",
    "    jj = 2.\n",
    "    k = -.5*jj/(jj*jj+1)\n",
    "    q = []\n",
    "    q.append(4*(p+k))\n",
    "    for i in range(1,n):\n",
    "        j = 1/float(2*i+1)\n",
    "        jj = 2*i+2\n",
    "        k = -.5*jj/(jj*jj+1)\n",
    "        p += j if i%2==0 else -j\n",
    "        f = k if i%2==0 else -k\n",
    "        if (i%step==0):\n",
    "            q.append(4*(p+f))\n",
    "    return q"
   ]
  },
  {
   "cell_type": "code",
   "execution_count": 103,
   "metadata": {
    "collapsed": true
   },
   "outputs": [],
   "source": [
    "def madhava3(n, step=1):\n",
    "#Madhava's improvement 3\n",
    "    p = 1.\n",
    "    jj = 2.\n",
    "    k = -(.25*jj*jj+1)/(.5*jj*(jj*jj+5))\n",
    "    q = []\n",
    "    q.append(4*(p+k))\n",
    "    for i in range(1,n):\n",
    "        j = 1/float(2*i+1)\n",
    "        jj = 2*i+2\n",
    "        k = -(.25*jj*jj+1)/(.5*jj*(jj*jj+5))\n",
    "        p += j if i%2==0 else -j\n",
    "        f = k if i%2==0 else -k\n",
    "        if (i%step==0):\n",
    "            q.append(4*(p+f))\n",
    "    return q"
   ]
  },
  {
   "cell_type": "code",
   "execution_count": 146,
   "metadata": {
    "collapsed": true
   },
   "outputs": [],
   "source": [
    "def atanser(n,x):\n",
    "#Madhava-Gregory-Leibniz series for arctan\n",
    "# n - number of terms of the Taylor polynomial\n",
    "# x - the argument\n",
    "    b=float(x)\n",
    "    y=b\n",
    "    xx=-float(x)*x\n",
    "    for i in range(1,n+1):\n",
    "        b*=xx\n",
    "        y+=b/(2*i+1)\n",
    "    return y\n",
    "\n",
    "def atanlist(nlist,x):\n",
    "#works with *list* of n\n",
    "    yy = []\n",
    "    for n in nlist: \n",
    "        yy.append(atanser(n,x))\n",
    "    return yy"
   ]
  },
  {
   "cell_type": "code",
   "execution_count": 66,
   "metadata": {
    "collapsed": true
   },
   "outputs": [],
   "source": [
    "def newtonpi(n):\n",
    "#Newton's formula for pi\n",
    "    s = 1./12\n",
    "    a = np.sqrt(27.)/4\n",
    "    p = 4.\n",
    "    f1 = 1.\n",
    "    f2 = 1.\n",
    "    q = []\n",
    "    q.append(a+24*s)\n",
    "    for i in range(1,n):\n",
    "        f1 *= 2*i-3 if i>2 else 1\n",
    "        f2 *= i\n",
    "        p *= 8\n",
    "        s -= f1/(p*f2*(2*i+3))\n",
    "        q.append(a+24*s)\n",
    "    return q"
   ]
  },
  {
   "cell_type": "code",
   "execution_count": 72,
   "metadata": {
    "collapsed": true
   },
   "outputs": [],
   "source": [
    "def pbpi(n):\n",
    "#Ptolemy-Briggs style method for pi\n",
    "    s = 1.\n",
    "    p = 4.\n",
    "    q = []\n",
    "    q.append(p*s)\n",
    "    for i in range(1,n):\n",
    "        p *= 2\n",
    "        s = s/(1+np.sqrt(1+s*s))\n",
    "        q.append(p*s)\n",
    "    return q"
   ]
  },
  {
   "cell_type": "code",
   "execution_count": 137,
   "metadata": {
    "collapsed": false
   },
   "outputs": [],
   "source": [
    "def sharp(n):\n",
    "#Formula used by Abraham Sharp\n",
    "    nn = range(0,n)\n",
    "    a = 6*np.asarray(atanlist(nn,np.sqrt(1./3)))\n",
    "    return a.tolist()"
   ]
  },
  {
   "cell_type": "code",
   "execution_count": 83,
   "metadata": {
    "collapsed": true
   },
   "outputs": [],
   "source": [
    "def machin(n):\n",
    "#Machin's formula\n",
    "    nn = range(0,n)\n",
    "    a = 16*np.asarray(atanlist(nn,.2)) - 4*np.asarray(atanlist(nn,1./239))\n",
    "    return a.tolist()"
   ]
  },
  {
   "cell_type": "code",
   "execution_count": 149,
   "metadata": {
    "collapsed": true
   },
   "outputs": [],
   "source": [
    "def eulervega(n):\n",
    "#Euler-Vega formula\n",
    "    nn = range(0,n)\n",
    "    a = 20*np.asarray(atanlist(nn,1./7)) + 2*np.asarray(atanlist(nn,3./79))\n",
    "    return a.tolist()"
   ]
  },
  {
   "cell_type": "code",
   "execution_count": 150,
   "metadata": {
    "collapsed": true
   },
   "outputs": [],
   "source": [
    "def gauss(n):\n",
    "#Gauss formula\n",
    "    nn = range(0,n)\n",
    "    a = 48*np.asarray(atanlist(nn,1./18)) + 32*np.asarray(atanlist(nn,1./57)) - 20*np.asarray(atanlist(nn,1./239))\n",
    "    return a.tolist()"
   ]
  },
  {
   "cell_type": "code",
   "execution_count": 151,
   "metadata": {
    "collapsed": true
   },
   "outputs": [],
   "source": [
    "def stormer(n):\n",
    "#Stormer formula\n",
    "    nn = range(0,n)\n",
    "    a = 176*np.asarray(atanlist(nn,1./57)) + 28*np.asarray(atanlist(nn,1./239)) - 48*np.asarray(atanlist(nn,1./682)) + 96*np.asarray(atanlist(nn,1./12943))\n",
    "    return a.tolist()"
   ]
  },
  {
   "cell_type": "code",
   "execution_count": 133,
   "metadata": {
    "collapsed": true
   },
   "outputs": [],
   "source": [
    "def ramanujan(n):\n",
    "#Ramanujan's formula\n",
    "    s = 1103.\n",
    "    c = 9801./np.sqrt(8)\n",
    "    f = 1.\n",
    "    ff = 1.\n",
    "    p = 1.\n",
    "    pp = 396*396*396*396\n",
    "    q = []\n",
    "    q.append(c/s)\n",
    "    for i in range(1,n):\n",
    "        f *= i\n",
    "        ii = i*4\n",
    "        ff *= ii*(ii-1)*(ii-2)*(ii-3)\n",
    "        p *= pp\n",
    "        s += ff*(1103+26390*i)/(f*f*f*f*p)\n",
    "        q.append(c/s)\n",
    "    return q"
   ]
  },
  {
   "cell_type": "code",
   "execution_count": 109,
   "metadata": {
    "collapsed": true
   },
   "outputs": [],
   "source": [
    "def brentsalamin(n):\n",
    "#Brent-Salamin algorithm (quadratically convergent)\n",
    "    a = 1.\n",
    "    b = np.sqrt(.5)\n",
    "    s = .5\n",
    "    p = 1.\n",
    "    q = []\n",
    "    q.append(2*a*a/s)\n",
    "    for i in range(1,n):\n",
    "        aa = .5*(a+b)\n",
    "        b = np.sqrt(a*b)\n",
    "        a = aa\n",
    "        c = a*a - b*b\n",
    "        p *= 2\n",
    "        s = s - p*c\n",
    "        q.append(2*a*a/s)\n",
    "    return q"
   ]
  },
  {
   "cell_type": "code",
   "execution_count": 116,
   "metadata": {
    "collapsed": false
   },
   "outputs": [],
   "source": [
    "def borwein3(n):\n",
    "#Cubic Borwein-Borwein algorithm\n",
    "    t = 1./3\n",
    "    a = 1./3\n",
    "    s = np.sqrt(.75)-.5\n",
    "    p = 1.\n",
    "    q = []\n",
    "    q.append(1/a)\n",
    "    for i in range(1,n):\n",
    "        r = 3/(1+2*(1-s*s*s)**t)\n",
    "        s = .5*(r-1)\n",
    "        a = r*r*a - p*(r*r-1)\n",
    "        p *= 3\n",
    "        q.append(1/a)\n",
    "    return q"
   ]
  },
  {
   "cell_type": "code",
   "execution_count": 130,
   "metadata": {
    "collapsed": true
   },
   "outputs": [],
   "source": [
    "def borwein4(n):\n",
    "#Quartic Borwein-Borwein algorithm\n",
    "    a = 6.-4*np.sqrt(2.)\n",
    "    y = np.sqrt(2.)-1\n",
    "    p = 2.\n",
    "    q = []\n",
    "    q.append(1/a)\n",
    "    for i in range(1,n):\n",
    "        yy = (1-y*y*y*y)**(.25)\n",
    "        y = (1-yy)/(1+yy)\n",
    "        yy = 1+y\n",
    "        p *= 4\n",
    "        a = a*yy*yy*yy*yy - p*y*(yy+y*y)\n",
    "        q.append(1/a)\n",
    "    return q"
   ]
  },
  {
   "cell_type": "code",
   "execution_count": 88,
   "metadata": {
    "collapsed": false
   },
   "outputs": [
    {
     "data": {
      "text/plain": [
       "[3,\n",
       " 3.1058285412302489,\n",
       " 3.1326286132812382,\n",
       " 3.1393502030468672,\n",
       " 3.1410319508905098]"
      ]
     },
     "execution_count": 88,
     "metadata": {},
     "output_type": "execute_result"
    }
   ],
   "source": [
    "archim(4)"
   ]
  },
  {
   "cell_type": "code",
   "execution_count": 91,
   "metadata": {
    "collapsed": false
   },
   "outputs": [
    {
     "data": {
      "text/plain": [
       "Fraction(245, 78)"
      ]
     },
     "execution_count": 91,
     "metadata": {},
     "output_type": "execute_result"
    }
   ],
   "source": [
    "a=archim(10)\n",
    "approxfr(a[4],100)"
   ]
  },
  {
   "cell_type": "code",
   "execution_count": 92,
   "metadata": {
    "collapsed": false
   },
   "outputs": [
    {
     "data": {
      "text/plain": [
       "0.042440401594735278"
      ]
     },
     "execution_count": 92,
     "metadata": {},
     "output_type": "execute_result"
    }
   ],
   "source": [
    "a[4]-220./71"
   ]
  },
  {
   "cell_type": "code",
   "execution_count": 93,
   "metadata": {
    "collapsed": false
   },
   "outputs": [
    {
     "data": {
      "text/plain": [
       "Fraction(22, 7)"
      ]
     },
     "execution_count": 93,
     "metadata": {},
     "output_type": "execute_result"
    }
   ],
   "source": [
    "a=archim1(10)\n",
    "approxfr(a[4],100)"
   ]
  },
  {
   "cell_type": "code",
   "execution_count": 94,
   "metadata": {
    "collapsed": false
   },
   "outputs": [
    {
     "data": {
      "text/plain": [
       "[3.4641016151377544,\n",
       " 3.2153903091734723,\n",
       " 3.1596599420975005,\n",
       " 3.1460862151314353,\n",
       " 3.1427145996453678,\n",
       " 3.1418730499798233,\n",
       " 3.1416627470568481,\n",
       " 3.1416101766046896,\n",
       " 3.1415970343215265,\n",
       " 3.1415937487713519,\n",
       " 3.1415929273850969]"
      ]
     },
     "execution_count": 94,
     "metadata": {},
     "output_type": "execute_result"
    }
   ],
   "source": [
    "a"
   ]
  },
  {
   "cell_type": "code",
   "execution_count": 96,
   "metadata": {
    "collapsed": false
   },
   "outputs": [
    {
     "data": {
      "text/plain": [
       "0.00014254321177498142"
      ]
     },
     "execution_count": 96,
     "metadata": {},
     "output_type": "execute_result"
    }
   ],
   "source": [
    "22./7-a[4]"
   ]
  },
  {
   "cell_type": "code",
   "execution_count": 135,
   "metadata": {
    "collapsed": false,
    "scrolled": true
   },
   "outputs": [
    {
     "name": "stdout",
     "output_type": "stream",
     "text": [
      "1& 3.0000000000000000& 3.4641016151377544& 2.8284271247461903& 3.0000000000000000\\\\\n",
      "2& 3.1058285412302489& 3.2153903091734723& 3.0614674589207183& 3.1423491305446567\\\\\n",
      "3& 3.1326286132812382& 3.1596599420975005& 3.1214451522580529& 3.1416390562199918\\\\\n",
      "4& 3.1393502030468672& 3.1460862151314353& 3.1365484905459398& 3.1415955404083902\\\\\n",
      "5& 3.1410319508905098& 3.1427145996453678& 3.1403311569547530& 3.1415928338087959\\\\\n",
      "6& 3.1414524722854620& 3.1418730499798233& 3.1412772509327729& 3.1415926648502488\\\\\n",
      "7& 3.1415576079118575& 3.1416627470568481& 3.1415138011443009& 3.1415926542935209\\\\\n",
      "8& 3.1415838921483181& 3.1416101766046896& 3.1415729403670913& 3.1415926536337748\\\\\n",
      "9& 3.1415904632280500& 3.1415970343215265& 3.1415877252771600& 3.1415926535925420\\\\\n",
      "10& 3.1415921059992713& 3.1415937487713519& 3.1415914215112002& 3.1415926535899645\\\\\n",
      "11& 3.1415925166921572& 3.1415929273850969& 3.1415923455701176& 3.1415926535898038\\\\\n"
     ]
    }
   ],
   "source": [
    "a=archim(10)\n",
    "b=archim1(10)\n",
    "v=viete(10)\n",
    "s=snell(10)\n",
    "for i in range(0,len(a)):\n",
    "    print '{}& {:.16f}& {:.16f}& {:.16f}& {:.16f}\\\\\\\\'.format(i+1,a[i],b[i],v[i],s[i])"
   ]
  },
  {
   "cell_type": "code",
   "execution_count": 152,
   "metadata": {
    "collapsed": false
   },
   "outputs": [
    {
     "name": "stdout",
     "output_type": "stream",
     "text": [
      "1& 3.4641016151377544& 3.2990381056766580& 3.1832635983263602& 3.1443881670703955\\\\\n",
      "2& 3.0792014356780038& 3.1490381056766577& 3.1405970293260603& 3.1415875736078829\\\\\n",
      "3& 3.1561814715699539& 3.1423416771052288& 3.1416210293250346& 3.1415926647657662\\\\\n",
      "4& 3.1378528915956800& 3.1416906354385628& 3.1415917721821773& 3.1415926535629728\\\\\n",
      "5& 3.1426047456630841& 3.1416074056800398& 3.1415926824043994& 3.1415926535898602\\\\\n",
      "6& 3.1413087854628827& 3.1415950812734890& 3.1415926526153086& 3.1415926535897927\\\\\n",
      "7& 3.1416743126988367& 3.1415930785574249& 3.1415926536235550& 3.1415926535897927\\\\\n",
      "8& 3.1415687159417836& 3.1415927314480228& 3.1415926535886025& 3.1415926535897927\\\\\n",
      "9& 3.1415997738115049& 3.1415926683631725& 3.1415926535898362& 3.1415926535897927\\\\\n",
      "10& 3.1415905109380793& 3.1415926564721790& 3.1415926535897922& 3.1415926535897927\\\\\n",
      "11& 3.1415933045030808& 3.1415926541650681& 3.1415926535897940& 3.1415926535897927\\\\\n"
     ]
    }
   ],
   "source": [
    "a=sharp(11)\n",
    "b=newtonpi(11)\n",
    "c=machin(11)\n",
    "g=gauss(11)\n",
    "for i in range(0,len(a)):\n",
    "    print '{}& {:.16f}& {:.16f}& {:.16f}& {:.16f}\\\\\\\\'.format(i+1,a[i],b[i],c[i],g[i])"
   ]
  },
  {
   "cell_type": "code",
   "execution_count": 11,
   "metadata": {
    "collapsed": false
   },
   "outputs": [
    {
     "data": {
      "text/plain": [
       "[3.0,\n",
       " 3.1058285412302489,\n",
       " 3.1326286132812382,\n",
       " 3.1393502030468672,\n",
       " 3.1410319508905098,\n",
       " 3.141452472285462,\n",
       " 3.1415576079118575,\n",
       " 3.1415838921483181,\n",
       " 3.14159046322805,\n",
       " 3.1415921059992713,\n",
       " 3.1415925166921572]"
      ]
     },
     "execution_count": 11,
     "metadata": {},
     "output_type": "execute_result"
    }
   ],
   "source": [
    "archim(10)"
   ]
  },
  {
   "cell_type": "code",
   "execution_count": 30,
   "metadata": {
    "collapsed": false
   },
   "outputs": [
    {
     "data": {
      "image/png": "[encoded data removed]",
      "text/plain": [
       "<matplotlib.figure.Figure at 0x11695fad0>"
      ]
     },
     "metadata": {},
     "output_type": "display_data"
    }
   ],
   "source": [
    "n=11\n",
    "a=archim(n)\n",
    "s=snell(n)\n",
    "d=[abs(aa-np.pi) for aa in a]\n",
    "ds=[abs(ss-np.pi) for ss in s]\n",
    "plt.yscale('log')\n",
    "plt.plot(d)\n",
    "plt.plot(ds)\n",
    "plt.show()"
   ]
  },
  {
   "cell_type": "code",
   "execution_count": 44,
   "metadata": {
    "collapsed": false
   },
   "outputs": [
    {
     "data": {
      "text/plain": [
       "[4.0,\n",
       " 3.1416005075026887,\n",
       " 3.1415965805634114,\n",
       " 3.1415952715760076,\n",
       " 3.1415946170808917,\n",
       " 3.141594224383365,\n",
       " 3.141593962584824,\n",
       " 3.1415937755857586,\n",
       " 3.1415936353363727,\n",
       " 3.141593526253515]"
      ]
     },
     "execution_count": 44,
     "metadata": {},
     "output_type": "execute_result"
    }
   ],
   "source": [
    "wallis(1000000,100000)"
   ]
  },
  {
   "cell_type": "code",
   "execution_count": 55,
   "metadata": {
    "collapsed": false
   },
   "outputs": [
    {
     "data": {
      "text/plain": [
       "[4.0,\n",
       " 3.1416026534897203,\n",
       " 3.141597653564762,\n",
       " 3.14159598691202,\n",
       " 3.141595153583494,\n",
       " 3.1415946535856922,\n",
       " 3.1415943202535703,\n",
       " 3.1415940821590773,\n",
       " 3.141593903588155,\n",
       " 3.1415937646996386]"
      ]
     },
     "execution_count": 55,
     "metadata": {},
     "output_type": "execute_result"
    }
   ],
   "source": [
    "leibniz(1000000,100000)"
   ]
  },
  {
   "cell_type": "code",
   "execution_count": 67,
   "metadata": {
    "collapsed": false
   },
   "outputs": [
    {
     "data": {
      "text/plain": [
       "[3.299038105676658,\n",
       " 3.1490381056766577,\n",
       " 3.1423416771052288,\n",
       " 3.1416906354385628,\n",
       " 3.1416074056800398,\n",
       " 3.141595081273489,\n",
       " 3.1415930785574249,\n",
       " 3.1415927314480228,\n",
       " 3.1415926683631725,\n",
       " 3.141592656472179]"
      ]
     },
     "execution_count": 67,
     "metadata": {},
     "output_type": "execute_result"
    }
   ],
   "source": [
    "newtonpi(10)"
   ]
  },
  {
   "cell_type": "code",
   "execution_count": 73,
   "metadata": {
    "collapsed": false
   },
   "outputs": [
    {
     "data": {
      "text/plain": [
       "[4.0,\n",
       " 3.3137084989847607,\n",
       " 3.1825978780745285,\n",
       " 3.1517249074292559,\n",
       " 3.1441183852459047,\n",
       " 3.1422236299424573,\n",
       " 3.141750369168967,\n",
       " 3.1416320807031828,\n",
       " 3.1416025102568104,\n",
       " 3.1415951177495907]"
      ]
     },
     "execution_count": 73,
     "metadata": {},
     "output_type": "execute_result"
    }
   ],
   "source": [
    "pbpi(10)"
   ]
  },
  {
   "cell_type": "code",
   "execution_count": 108,
   "metadata": {
    "collapsed": false
   },
   "outputs": [
    {
     "data": {
      "text/plain": [
       "[4.0,\n",
       " 3.3137084989847607,\n",
       " 3.1825978780745281,\n",
       " 3.1517249074292564,\n",
       " 3.1441183852459047,\n",
       " 3.1422236299424577,\n",
       " 3.141750369168967,\n",
       " 3.1416320807031823,\n",
       " 3.141602510256809,\n",
       " 3.1415951177495893]"
      ]
     },
     "execution_count": 108,
     "metadata": {},
     "output_type": "execute_result"
    }
   ],
   "source": [
    "descartes(10)"
   ]
  },
  {
   "cell_type": "code",
   "execution_count": 86,
   "metadata": {
    "collapsed": false
   },
   "outputs": [
    {
     "data": {
      "text/plain": [
       "[3.18326359832636,\n",
       " 3.1405970293260603,\n",
       " 3.1416210293250346,\n",
       " 3.1415917721821773,\n",
       " 3.1415926824043994,\n",
       " 3.1415926526153086,\n",
       " 3.141592653623555,\n",
       " 3.1415926535886025,\n",
       " 3.141592653589836,\n",
       " 3.1415926535897922,\n",
       " 3.141592653589794,\n",
       " 3.1415926535897936]"
      ]
     },
     "execution_count": 86,
     "metadata": {},
     "output_type": "execute_result"
    }
   ],
   "source": [
    "machin(11)"
   ]
  },
  {
   "cell_type": "code",
   "execution_count": 97,
   "metadata": {
    "collapsed": false
   },
   "outputs": [
    {
     "data": {
      "text/plain": [
       "[3.0,\n",
       " 3.141406718496503,\n",
       " 3.1415657346585486,\n",
       " 3.1415842726746215,\n",
       " 3.1415890289407766,\n",
       " 3.141590769849796,\n",
       " 3.1415915525457154,\n",
       " 3.1415919552652216,\n",
       " 3.14159218326027,\n",
       " 3.1415923218861095]"
      ]
     },
     "execution_count": 97,
     "metadata": {},
     "output_type": "execute_result"
    }
   ],
   "source": [
    "madhava1(100,10)"
   ]
  },
  {
   "cell_type": "code",
   "execution_count": 102,
   "metadata": {
    "collapsed": false
   },
   "outputs": [
    {
     "data": {
      "text/plain": [
       "[3.2,\n",
       " 3.1415941599210577,\n",
       " 3.1415927142889273,\n",
       " 3.14159266228828,\n",
       " 3.1415926557428437,\n",
       " 3.141592654313336,\n",
       " 3.1415926538854952,\n",
       " 3.141592653728254,\n",
       " 3.1415926536614514,\n",
       " 3.1415926536298375]"
      ]
     },
     "execution_count": 102,
     "metadata": {},
     "output_type": "execute_result"
    }
   ],
   "source": [
    "madhava2(100,10)"
   ]
  },
  {
   "cell_type": "code",
   "execution_count": 105,
   "metadata": {
    "collapsed": false
   },
   "outputs": [
    {
     "data": {
      "text/plain": [
       "[3.111111111111111,\n",
       " 3.1415926266578715,\n",
       " 3.141592653283545,\n",
       " 3.1415926535695333,\n",
       " 3.1415926535869207,\n",
       " 3.141592653589169,\n",
       " 3.141592653589615,\n",
       " 3.1415926535897314,\n",
       " 3.1415926535897687,\n",
       " 3.1415926535897825]"
      ]
     },
     "execution_count": 105,
     "metadata": {},
     "output_type": "execute_result"
    }
   ],
   "source": [
    "madhava3(100,10)"
   ]
  },
  {
   "cell_type": "code",
   "execution_count": 113,
   "metadata": {
    "collapsed": false
   },
   "outputs": [
    {
     "data": {
      "text/plain": [
       "[4.0,\n",
       " 3.1876726427121058,\n",
       " 3.1416802932976475,\n",
       " 3.1415926538954508,\n",
       " 3.141592653589822,\n",
       " 3.1415926535898708,\n",
       " 3.1415926535899685,\n",
       " 3.1415926535901639,\n",
       " 3.1415926535905547,\n",
       " 3.1415926535913363]"
      ]
     },
     "execution_count": 113,
     "metadata": {},
     "output_type": "execute_result"
    }
   ],
   "source": [
    "brentsalamin(10)"
   ]
  },
  {
   "cell_type": "code",
   "execution_count": 114,
   "metadata": {
    "collapsed": false
   },
   "outputs": [
    {
     "data": {
      "text/plain": [
       "3.141592653589793"
      ]
     },
     "execution_count": 114,
     "metadata": {},
     "output_type": "execute_result"
    }
   ],
   "source": [
    "np.pi"
   ]
  },
  {
   "cell_type": "code",
   "execution_count": 120,
   "metadata": {
    "collapsed": false
   },
   "outputs": [
    {
     "data": {
      "text/plain": [
       "[3.0, 3.1415905852058974, 3.1415926535898042]"
      ]
     },
     "execution_count": 120,
     "metadata": {},
     "output_type": "execute_result"
    }
   ],
   "source": [
    "borwein3(3)"
   ]
  },
  {
   "cell_type": "code",
   "execution_count": 129,
   "metadata": {
    "collapsed": false
   },
   "outputs": [
    {
     "data": {
      "text/plain": [
       "[2.9142135623730985, 3.1415926462135473, 3.1415926535897931]"
      ]
     },
     "execution_count": 129,
     "metadata": {},
     "output_type": "execute_result"
    }
   ],
   "source": [
    "borwein4(3)"
   ]
  },
  {
   "cell_type": "code",
   "execution_count": 134,
   "metadata": {
    "collapsed": false
   },
   "outputs": [
    {
     "data": {
      "text/plain": [
       "[3.1415927300133055, 3.141592653589794, 3.1415926535897931]"
      ]
     },
     "execution_count": 134,
     "metadata": {},
     "output_type": "execute_result"
    }
   ],
   "source": [
    "ramanujan(3)"
   ]
  },
  {
   "cell_type": "code",
   "execution_count": null,
   "metadata": {
    "collapsed": true
   },
   "outputs": [],
   "source": []
  }
 ],
 "metadata": {
  "kernelspec": {
   "display_name": "Python 2",
   "language": "python",
   "name": "python2"
  },
  "language_info": {
   "codemirror_mode": {
    "name": "ipython",
    "version": 2
   },
   "file_extension": ".py",
   "mimetype": "text/x-python",
   "name": "python",
   "nbconvert_exporter": "python",
   "pygments_lexer": "ipython2",
   "version": "2.7.13"
  }
 },
 "nbformat": 4,
 "nbformat_minor": 2
}
